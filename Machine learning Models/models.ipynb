{
 "cells": [
  {
   "cell_type": "markdown",
   "id": "50dae8e4",
   "metadata": {},
   "source": [
    "![Failed To Load](../images/img66.png)\n",
    "![Failed To Load](../images/img67.png)\n",
    "![Failed To Load](../images/img68.png)\n",
    "![Failed To Load](../images/img69.png)"
   ]
  },
  {
   "cell_type": "markdown",
   "id": "42563266",
   "metadata": {},
   "source": [
    "![Failed To Load](../images/img70.png)\n",
    "![Failed To Load](../images/img71.png)\n",
    "![Failed To Load](../images/img72.png)\n",
    "![Failed To Load](../images/img73.png)\n",
    "![Failed To Load](../images/img74.png)\n",
    "![Failed To Load](../images/img75.png)\n",
    "![Failed To Load](../images/img76.png)"
   ]
  },
  {
   "cell_type": "markdown",
   "id": "408a0e79",
   "metadata": {},
   "source": [
    "![Failed To Load](../images/img77.png)\n",
    "![Failed To Load](../images/img78.png)\n",
    "![Failed To Load](../images/img79.png)\n",
    "![Failed To Load](../images/img80.png)\n",
    "![Failed To Load](../images/img81.png)"
   ]
  },
  {
   "cell_type": "markdown",
   "id": "6db2a286",
   "metadata": {},
   "source": [
    "![failed To Load](../images/img82.png)\n",
    "![failed To Load](../images/img83.png)\n",
    "![failed To Load](../images/img84.png)"
   ]
  }
 ],
 "metadata": {
  "language_info": {
   "name": "python"
  }
 },
 "nbformat": 4,
 "nbformat_minor": 5
}
