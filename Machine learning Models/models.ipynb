{
 "cells": [
  {
   "cell_type": "markdown",
   "id": "50dae8e4",
   "metadata": {},
   "source": [
    "![Failed To Load](../images/img66.png)\n",
    "![Failed To Load](../images/img67.png)\n",
    "![Failed To Load](../images/img68.png)\n",
    "![Failed To Load](../images/img69.png)"
   ]
  },
  {
   "cell_type": "markdown",
   "id": "42563266",
   "metadata": {},
   "source": [
    "![Failed To Load](../images/img70.png)\n",
    "![Failed To Load](../images/img71.png)\n",
    "![Failed To Load](../images/img72.png)\n",
    "![Failed To Load](../images/img73.png)\n",
    "![Failed To Load](../images/img74.png)\n",
    "![Failed To Load](../images/img75.png)\n",
    "![Failed To Load](../images/img76.png)"
   ]
  },
  {
   "cell_type": "markdown",
   "id": "408a0e79",
   "metadata": {},
   "source": [
    "![Failed To Load](../images/img77.png)\n",
    "![Failed To Load](../images/img78.png)\n",
    "![Failed To Load](../images/img79.png)\n",
    "![Failed To Load](../images/img80.png)\n",
    "![Failed To Load](../images/img81.png)"
   ]
  },
  {
   "cell_type": "markdown",
   "id": "6db2a286",
   "metadata": {},
   "source": [
    "![failed To Load](../images/img82.png)\n",
    "![failed To Load](../images/img83.png)\n",
    "![failed To Load](../images/img84.png)"
   ]
  },
  {
   "cell_type": "markdown",
   "id": "48c7c789",
   "metadata": {},
   "source": [
    "![Failed To Load](../images/img85.png)\n",
    "![Failed To Load](../images/img86.png)\n",
    "![Failed To Load](../images/img87.png)"
   ]
  },
  {
   "cell_type": "markdown",
   "id": "995ab4ca",
   "metadata": {},
   "source": [
    "![Failed To Load](../images/img88.png)\n",
    "![Failed To Load](../images/img89.png)\n",
    "![Failed To Load](../images/img90.png)\n",
    "![Failed To Load](../images/img91.png)\n",
    "![Failed To Load](../images/img92.png)\n",
    "![Failed To Load](../images/img93.png)"
   ]
  },
  {
   "cell_type": "markdown",
   "id": "44f2b6e4",
   "metadata": {},
   "source": [
    "![Failed To Load](../images/img94.png)"
   ]
  },
  {
   "cell_type": "markdown",
   "id": "d31fda63",
   "metadata": {},
   "source": [
    "![Failed To Load](../images/img95.png)\n",
    "![Failed To Load](../images/img96.png)\n",
    "![Failed To Load](../images/img97.png)\n",
    "![Failed To Load](../images/img98.png)"
   ]
  },
  {
   "cell_type": "markdown",
   "id": "01bea3c2",
   "metadata": {},
   "source": [
    "![Failed To Load](../images/img99.png)\n",
    "![Failed To Load](../images/img100.png)\n",
    "![Failed To Load](../images/img101.png)\n",
    "![Failed To Load](../images/img102.png)\n",
    "![Failed To Load](../images/img103.png)\n",
    "![Failed To Load](../images/img104.png)\n",
    "![Failed To Load](../images/img105.png)\n",
    "![Failed To Load](../images/img106.png)\n",
    "![Failed To Load](../images/img107.png)"
   ]
  },
  {
   "cell_type": "markdown",
   "id": "de709f16",
   "metadata": {},
   "source": [
    "![Failed To Load](../images/img108.png)\n",
    "![Failed To Load](../images/img109.png)\n",
    "![Failed To Load](../images/img110.png)\n",
    "![Failed To Load](../images/img111.png)\n",
    "![Failed To Load](../images/img112.png)\n",
    "![Failed To Load](../images/img113.png)"
   ]
  }
 ],
 "metadata": {
  "language_info": {
   "name": "python"
  }
 },
 "nbformat": 4,
 "nbformat_minor": 5
}
