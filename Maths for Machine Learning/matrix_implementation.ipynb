{
 "cells": [
  {
   "cell_type": "code",
   "execution_count": 1,
   "metadata": {},
   "outputs": [],
   "source": [
    "import pandas as pd\n",
    "import numpy as np\n",
    "import matplotlib.pyplot as plt\n",
    "import seaborn as sns"
   ]
  },
  {
   "cell_type": "code",
   "execution_count": 2,
   "metadata": {},
   "outputs": [],
   "source": [
    "sns.set()"
   ]
  },
  {
   "cell_type": "code",
   "execution_count": 3,
   "metadata": {},
   "outputs": [
    {
     "name": "stdout",
     "output_type": "stream",
     "text": [
      "[[2 3]\n",
      " [6 7]]\n"
     ]
    }
   ],
   "source": [
    "#Creating 2 * 2 matrix\n",
    "matrix_1 = np.array([[2,3],\n",
    "                     [6,7]])\n",
    "\n",
    "print(matrix_1)"
   ]
  },
  {
   "cell_type": "code",
   "execution_count": 4,
   "metadata": {},
   "outputs": [
    {
     "data": {
      "text/plain": [
       "(2, 2)"
      ]
     },
     "execution_count": 4,
     "metadata": {},
     "output_type": "execute_result"
    }
   ],
   "source": [
    "matrix_1.shape"
   ]
  },
  {
   "cell_type": "code",
   "execution_count": 5,
   "metadata": {},
   "outputs": [
    {
     "name": "stdout",
     "output_type": "stream",
     "text": [
      "[[1 2 3]\n",
      " [4 5 6]\n",
      " [7 8 9]]\n"
     ]
    }
   ],
   "source": [
    "#Creating 3*3 matrix\n",
    "matrix_2 = np.array([\n",
    "    [1,2,3],\n",
    "    [4,5,6],\n",
    "    [7,8,9]\n",
    "])\n",
    "\n",
    "print(matrix_2)"
   ]
  },
  {
   "cell_type": "code",
   "execution_count": 6,
   "metadata": {},
   "outputs": [
    {
     "data": {
      "text/plain": [
       "(3, 3)"
      ]
     },
     "execution_count": 6,
     "metadata": {},
     "output_type": "execute_result"
    }
   ],
   "source": [
    "matrix_2.shape"
   ]
  },
  {
   "cell_type": "code",
   "execution_count": 7,
   "metadata": {},
   "outputs": [
    {
     "name": "stdout",
     "output_type": "stream",
     "text": [
      "[[0.06338625 0.28433975 0.16154818]\n",
      " [0.17381014 0.95125543 0.74449442]\n",
      " [0.12862062 0.46406345 0.20163022]]\n"
     ]
    }
   ],
   "source": [
    "#Creating Random Matrix:\n",
    "\n",
    "random_matrix = np.random.rand(3,3)\n",
    "print(random_matrix)"
   ]
  },
  {
   "cell_type": "code",
   "execution_count": 8,
   "metadata": {},
   "outputs": [
    {
     "name": "stdout",
     "output_type": "stream",
     "text": [
      "[[34 65  4]\n",
      " [27 21 33]\n",
      " [12 77 33]]\n"
     ]
    }
   ],
   "source": [
    "random_integer_matrix = np.random.randint(100, size = (3,3))\n",
    "print(random_integer_matrix)"
   ]
  },
  {
   "cell_type": "code",
   "execution_count": 9,
   "metadata": {},
   "outputs": [
    {
     "name": "stdout",
     "output_type": "stream",
     "text": [
      "[[1 1 1]\n",
      " [1 1 1]]\n"
     ]
    }
   ],
   "source": [
    "#Creating matrix of ones:\n",
    "one_matrix = np.ones((2,3), dtype= int)\n",
    "print(one_matrix)"
   ]
  },
  {
   "cell_type": "code",
   "execution_count": 10,
   "metadata": {},
   "outputs": [
    {
     "name": "stdout",
     "output_type": "stream",
     "text": [
      "[[0 0 0 0 0 0 0]\n",
      " [0 0 0 0 0 0 0]\n",
      " [0 0 0 0 0 0 0]\n",
      " [0 0 0 0 0 0 0]\n",
      " [0 0 0 0 0 0 0]\n",
      " [0 0 0 0 0 0 0]\n",
      " [0 0 0 0 0 0 0]]\n"
     ]
    }
   ],
   "source": [
    "#Creating null matrix:\n",
    "zero_matrix = np.zeros((7,7), dtype = int)\n",
    "print(zero_matrix)"
   ]
  },
  {
   "cell_type": "code",
   "execution_count": 11,
   "metadata": {},
   "outputs": [
    {
     "name": "stdout",
     "output_type": "stream",
     "text": [
      "[[1. 0. 0.]\n",
      " [0. 1. 0.]\n",
      " [0. 0. 1.]]\n"
     ]
    }
   ],
   "source": [
    "#Creating identity matrix:\n",
    "identity_matrix = np.eye(3,3)\n",
    "print(identity_matrix)"
   ]
  },
  {
   "cell_type": "code",
   "execution_count": 12,
   "metadata": {},
   "outputs": [
    {
     "name": "stdout",
     "output_type": "stream",
     "text": [
      "[[ 0 18 16  5 47]\n",
      " [27 81 22 33 25]\n",
      " [ 7 13 12  6 42]\n",
      " [75 33 67 19  1]]\n",
      "[[ 0 27  7 75]\n",
      " [18 81 13 33]\n",
      " [16 22 12 67]\n",
      " [ 5 33  6 19]\n",
      " [47 25 42  1]]\n"
     ]
    }
   ],
   "source": [
    "#Transpose of matrix:\n",
    "matrix = np.random.randint(100, size= (4,5))\n",
    "print(matrix)\n",
    "matrix_transpose = matrix.T\n",
    "print(matrix_transpose)"
   ]
  },
  {
   "cell_type": "markdown",
   "metadata": {},
   "source": [
    "### Implementation of matrix operation"
   ]
  },
  {
   "cell_type": "code",
   "execution_count": 13,
   "metadata": {},
   "outputs": [
    {
     "name": "stdout",
     "output_type": "stream",
     "text": [
      "(2, 2)\n",
      "(2, 2)\n"
     ]
    }
   ],
   "source": [
    "A = np.array([\n",
    "    [1,2],\n",
    "    [3,4]\n",
    "])\n",
    "\n",
    "B = np.array([\n",
    "    [1,2],\n",
    "    [3,4]\n",
    "])\n",
    "\n",
    "#Two Matrices of shame shape can be added\n",
    "print(A.shape)\n",
    "print(B.shape)"
   ]
  },
  {
   "cell_type": "code",
   "execution_count": 14,
   "metadata": {},
   "outputs": [
    {
     "name": "stdout",
     "output_type": "stream",
     "text": [
      "[[2 4]\n",
      " [6 8]]\n"
     ]
    }
   ],
   "source": [
    "sum = A + B \n",
    "print(sum)"
   ]
  },
  {
   "cell_type": "code",
   "execution_count": 15,
   "metadata": {},
   "outputs": [
    {
     "name": "stdout",
     "output_type": "stream",
     "text": [
      "[[6 9 3]\n",
      " [5 0 8]\n",
      " [6 9 6]]\n",
      "[[11 15  5]\n",
      " [ 8  2 18]\n",
      " [ 9  0  3]]\n",
      "[[17 24  8]\n",
      " [13  2 26]\n",
      " [15  9  9]]\n"
     ]
    }
   ],
   "source": [
    "#Alternate way of adding:\n",
    "A = np.random.randint(10, size = (3,3))\n",
    "B = np.random.randint(20, size = (3,3))\n",
    "\n",
    "print(A)\n",
    "print(B)\n",
    "\n",
    "sum = np.add(A,B)\n",
    "print(sum)"
   ]
  },
  {
   "cell_type": "code",
   "execution_count": 16,
   "metadata": {},
   "outputs": [
    {
     "name": "stdout",
     "output_type": "stream",
     "text": [
      "(2, 2)\n",
      "(2, 2)\n"
     ]
    }
   ],
   "source": [
    "A = np.array([\n",
    "    [1,2],\n",
    "    [3,4]\n",
    "])\n",
    "\n",
    "B = np.array([\n",
    "    [1,2],\n",
    "    [3,4]\n",
    "])\n",
    "\n",
    "#Two Matrices of shame shape can be added\n",
    "print(A.shape)\n",
    "print(B.shape)"
   ]
  },
  {
   "cell_type": "code",
   "execution_count": 17,
   "metadata": {},
   "outputs": [
    {
     "name": "stdout",
     "output_type": "stream",
     "text": [
      "[[0 0]\n",
      " [0 0]]\n"
     ]
    }
   ],
   "source": [
    "difference = A - B \n",
    "print(difference)"
   ]
  },
  {
   "cell_type": "code",
   "execution_count": 18,
   "metadata": {},
   "outputs": [
    {
     "name": "stdout",
     "output_type": "stream",
     "text": [
      "[[5 0 8]\n",
      " [3 9 6]\n",
      " [4 5 4]]\n",
      "[[10  6 13]\n",
      " [ 2 13  7]\n",
      " [18 10  2]]\n",
      "[[ -5  -6  -5]\n",
      " [  1  -4  -1]\n",
      " [-14  -5   2]]\n"
     ]
    }
   ],
   "source": [
    "#Alternate way of subtracting:\n",
    "A = np.random.randint(10, size = (3,3))\n",
    "B = np.random.randint(20, size = (3,3))\n",
    "\n",
    "print(A)\n",
    "print(B)\n",
    "\n",
    "sum = np.subtract(A,B)\n",
    "print(sum)"
   ]
  },
  {
   "cell_type": "code",
   "execution_count": 19,
   "metadata": {},
   "outputs": [
    {
     "name": "stdout",
     "output_type": "stream",
     "text": [
      "[[18  0  2]\n",
      " [ 5  1 10]\n",
      " [10 12 18]]\n",
      "[[72  0  8]\n",
      " [20  4 40]\n",
      " [40 48 72]]\n"
     ]
    }
   ],
   "source": [
    "#Multiplying by a scalar\n",
    "S = 4\n",
    "A = np.random.randint(20, size = (3,3))\n",
    "\n",
    "print(A)\n",
    "\n",
    "scalar_product = np.multiply(S,A)\n",
    "\n",
    "print(scalar_product)"
   ]
  },
  {
   "cell_type": "code",
   "execution_count": null,
   "metadata": {},
   "outputs": [
    {
     "name": "stdout",
     "output_type": "stream",
     "text": [
      "[[8 2 9 4]\n",
      " [5 5 2 2]\n",
      " [3 0 7 8]]\n",
      "[[4 2 3]\n",
      " [3 0 0]\n",
      " [3 3 3]\n",
      " [1 0 0]]\n",
      "[[69 43 51]\n",
      " [43 16 21]\n",
      " [41 27 30]]\n"
     ]
    }
   ],
   "source": [
    "#Multiplying matrix by a matrix (dot product)\n",
    "A = np.random.randint(10, size= (3,4))\n",
    "B = np.random.randint(5, size= (4,3))\n",
    "\n",
    "print(A)\n",
    "print(B)\n",
    "\n",
    "product = np.dot(A,B)\n",
    "print(product)\n",
    "#Note: np.dot() gives the typical matrix product np.multiply() gives the element wise product"
   ]
  },
  {
   "cell_type": "code",
   "execution_count": null,
   "metadata": {},
   "outputs": [
    {
     "name": "stdout",
     "output_type": "stream",
     "text": [
      "[[1 1 6]\n",
      " [8 9 3]\n",
      " [0 3 1]]\n",
      "[[1 1 2]\n",
      " [0 0 4]\n",
      " [4 3 0]]\n",
      "[[ 1  1 12]\n",
      " [ 0  0 12]\n",
      " [ 0  9  0]]\n"
     ]
    }
   ],
   "source": [
    "#Multiplying matrix by a matrix (elementwise)\n",
    "A = np.random.randint(10, size= (3,3))\n",
    "B = np.random.randint(5, size= (3,3))\n",
    "\n",
    "print(A)\n",
    "print(B)\n",
    "\n",
    "product = np.multiply(A,B)\n",
    "print(product)\n",
    "#Note: np.dot() gives the typical matrix product np.multiply() gives the element wise product"
   ]
  }
 ],
 "metadata": {
  "kernelspec": {
   "display_name": "venv",
   "language": "python",
   "name": "python3"
  },
  "language_info": {
   "codemirror_mode": {
    "name": "ipython",
    "version": 3
   },
   "file_extension": ".py",
   "mimetype": "text/x-python",
   "name": "python",
   "nbconvert_exporter": "python",
   "pygments_lexer": "ipython3",
   "version": "3.13.1"
  }
 },
 "nbformat": 4,
 "nbformat_minor": 2
}
