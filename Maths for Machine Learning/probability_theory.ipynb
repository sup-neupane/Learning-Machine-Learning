{
 "cells": [
  {
   "cell_type": "markdown",
   "id": "43e1dc1c",
   "metadata": {},
   "source": [
    "### Probability"
   ]
  },
  {
   "cell_type": "markdown",
   "id": "c8b9a5e7",
   "metadata": {},
   "source": [
    "![Failed To Load](../images/img53.png)\n",
    "![Failed To Load](../images/img54.png)"
   ]
  },
  {
   "cell_type": "markdown",
   "id": "f7fcc0af",
   "metadata": {},
   "source": [
    "![Failed To Load](../images/img55.png)\n",
    "![Failed To Load](../images/img56.png)"
   ]
  },
  {
   "cell_type": "markdown",
   "id": "921d8882",
   "metadata": {},
   "source": [
    "### A random variable is a variable that takes on different numerical values based on the outcome of a random experiment."
   ]
  },
  {
   "cell_type": "markdown",
   "id": "e599bbdf",
   "metadata": {},
   "source": [
    "![Failed To Load](../images/img57.png)\n",
    "![Failed To Load](../images/img58.png)\n",
    "![Failed To Load](../images/img59.png)"
   ]
  },
  {
   "cell_type": "markdown",
   "id": "89d26253",
   "metadata": {},
   "source": [
    "![Failed To Load](../images/img60.png)\n",
    "![Failed To Load](../images/img61.png)"
   ]
  },
  {
   "cell_type": "markdown",
   "id": "c268f1e9",
   "metadata": {},
   "source": [
    "### Probability Distribution of a Random Variable:  What is the chance that a random variable takes on a certain value?"
   ]
  },
  {
   "cell_type": "markdown",
   "id": "01af8812",
   "metadata": {},
   "source": [
    "### Random variables are represented using a distribution curve."
   ]
  },
  {
   "cell_type": "markdown",
   "id": "c130327a",
   "metadata": {},
   "source": [
    "![Failed To Load](../images/img62.png)\n",
    "![Failed To Load](../images/img63.png)"
   ]
  },
  {
   "cell_type": "markdown",
   "id": "a17b00d0",
   "metadata": {},
   "source": [
    "![Failed To Load](../images/img64.png)\n",
    "![Failed To Load](../images/img65.png)"
   ]
  }
 ],
 "metadata": {
  "kernelspec": {
   "display_name": "venv",
   "language": "python",
   "name": "python3"
  },
  "language_info": {
   "codemirror_mode": {
    "name": "ipython",
    "version": 3
   },
   "file_extension": ".py",
   "mimetype": "text/x-python",
   "name": "python",
   "nbconvert_exporter": "python",
   "pygments_lexer": "ipython3",
   "version": "3.13.1"
  }
 },
 "nbformat": 4,
 "nbformat_minor": 5
}
