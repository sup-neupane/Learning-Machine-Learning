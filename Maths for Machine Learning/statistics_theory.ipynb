{
 "cells": [
  {
   "cell_type": "markdown",
   "metadata": {},
   "source": [
    "#### Statistics for machine learning"
   ]
  },
  {
   "cell_type": "markdown",
   "metadata": {},
   "source": [
    "![Failed To Load](../images/img23.png)"
   ]
  },
  {
   "cell_type": "markdown",
   "metadata": {},
   "source": [
    "Range: The difference between the maximum and minimum values in a dataset.  \n",
    "Mean: The average of all values in a dataset, calculated as the sum of values divided by the number of values.  \n",
    "Standard Deviation: A measure of how spread out the values are from the mean, indicating data variability.  "
   ]
  },
  {
   "cell_type": "markdown",
   "metadata": {},
   "source": []
  }
 ],
 "metadata": {
  "language_info": {
   "name": "python"
  }
 },
 "nbformat": 4,
 "nbformat_minor": 2
}
