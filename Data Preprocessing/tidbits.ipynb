{
 "cells": [
  {
   "cell_type": "markdown",
   "metadata": {},
   "source": [
    "### Methods to handle missing values:\n",
    "1. Imputation: When dataset is small\n",
    "2. Dropping : When dataset is large"
   ]
  },
  {
   "cell_type": "markdown",
   "metadata": {},
   "source": [
    " Imputation is done with central tendencies:\n",
    " 1. Mean: The total sum divided by total count of numbers\n",
    " 2. Median: Arrange in ascending and the middle value is median. If even terms the average of two middle terms.\n",
    " 3. Mode: The number with most number of occurance."
   ]
  },
  {
   "cell_type": "markdown",
   "metadata": {},
   "source": [
    "Mean is used when the dataset is normally distributed but if dataset is skewed then use median or mode."
   ]
  },
  {
   "cell_type": "markdown",
   "metadata": {},
   "source": [
    "### Data Standardization\n",
    "Data is not standardized if standard deviation is not 1  \n",
    "Process of standardizing data data to common format and common range.  \n",
    "Standardize train and test splits seperately."
   ]
  },
  {
   "cell_type": "markdown",
   "metadata": {},
   "source": [
    "### Label Encoding\n",
    "Converting labels into numeric form"
   ]
  },
  {
   "cell_type": "markdown",
   "metadata": {},
   "source": [
    "### Imbalanced Dataset:  \n",
    "  \n",
    "A dataset with unequal class distribution: For example say in a binary classification there are 1000 value for one target and only 100 for the other.\n",
    "  \n",
    "To solve this we use:  \n",
    "\n",
    "Under Sampling: Build a sample dataset containing similar distribution.\n"
   ]
  },
  {
   "cell_type": "markdown",
   "metadata": {},
   "source": [
    "### Feature Extraction of Text  \n",
    "![Failed To Load](../images/img1.png)"
   ]
  },
  {
   "cell_type": "markdown",
   "metadata": {},
   "source": [
    "Here number of words is counted instead of context. This vectorization is the approach for machine learning but in NLP there are other approaches too. "
   ]
  },
  {
   "cell_type": "markdown",
   "metadata": {},
   "source": [
    "![Failed To Load](../images/img2.png)"
   ]
  }
 ],
 "metadata": {
  "language_info": {
   "name": "python"
  }
 },
 "nbformat": 4,
 "nbformat_minor": 2
}
